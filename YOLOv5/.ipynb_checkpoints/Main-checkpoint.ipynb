{
 "cells": [
  {
   "cell_type": "markdown",
   "id": "029bbadc",
   "metadata": {},
   "source": [
    "# Image Preprocessing for ConvAE"
   ]
  },
  {
   "cell_type": "markdown",
   "id": "c6185e77",
   "metadata": {},
   "source": [
    "## 0. Setting"
   ]
  },
  {
   "cell_type": "code",
   "execution_count": 6,
   "id": "c1fd4281",
   "metadata": {},
   "outputs": [
    {
     "data": {
      "text/plain": [
       "'C:\\\\myPyCode\\\\Graduation_Project\\\\YOLOv5'"
      ]
     },
     "execution_count": 6,
     "metadata": {},
     "output_type": "execute_result"
    }
   ],
   "source": [
    "pwd"
   ]
  },
  {
   "cell_type": "code",
   "execution_count": 7,
   "id": "d3400374",
   "metadata": {},
   "outputs": [
    {
     "name": "stdout",
     "output_type": "stream",
     "text": [
      " C 드라이브의 볼륨에는 이름이 없습니다.\n",
      " 볼륨 일련 번호: A494-C8A8\n",
      "\n",
      " C:\\myPyCode\\Graduation_Project\\YOLOv5 디렉터리\n",
      "\n",
      "2022-10-06  오후 01:28    <DIR>          .\n",
      "2022-10-06  오후 01:28    <DIR>          ..\n",
      "2022-10-06  오후 01:28    <DIR>          .ipynb_checkpoints\n",
      "2022-10-06  오후 01:28             4,351 Main.ipynb\n",
      "2022-10-06  오후 12:46    <DIR>          yolov5\n",
      "2022-10-05  오전 05:01           137,605 Yolov5 ver1 train.ipynb\n",
      "2022-10-06  오후 12:48            13,389 Yolov5 ver1 WebCam.ipynb\n",
      "               3개 파일             155,345 바이트\n",
      "               4개 디렉터리  39,084,310,528 바이트 남음\n"
     ]
    }
   ],
   "source": [
    "ls"
   ]
  },
  {
   "cell_type": "markdown",
   "id": "0973f39f",
   "metadata": {},
   "source": [
    "### Library Call"
   ]
  },
  {
   "cell_type": "code",
   "execution_count": 2,
   "id": "5475e91c",
   "metadata": {},
   "outputs": [],
   "source": [
    "# 상용 라이브러리\n",
    "from glob import glob\n",
    "import os\n",
    "import cv2\n",
    "import pandas as pd\n",
    "import numpy as np\n",
    "import datetime as dt\n",
    "import time\n",
    "\n",
    "# 시각화 라이브러리\n",
    "import seaborn as sns\n",
    "import matplotlib.pyplot as plt\n",
    "import matplotlib\n",
    "import plotly.express as px\n",
    "import plotly.graph_objects as go\n",
    "\n",
    "# 한글 폰트 패치\n",
    "matplotlib.rcParams['font.family']='Malgun Gothic'\n",
    "matplotlib.rcParams['axes.unicode_minus'] = False   \n",
    "\n",
    "# 시각화 포맷 설정\n",
    "plt.style.use(\"ggplot\")\n",
    "sns.set(font_scale=2)\n",
    "sns.set_style(\"whitegrid\")\n",
    "sns.set_context(\"talk\")\n",
    "\n",
    "# 경고문 처리\n",
    "import warnings\n",
    "warnings.filterwarnings('ignore')"
   ]
  },
  {
   "cell_type": "markdown",
   "id": "d45cbbfa",
   "metadata": {},
   "source": [
    "### User Function & Constant Definition"
   ]
  },
  {
   "cell_type": "code",
   "execution_count": 9,
   "id": "245b63b0",
   "metadata": {},
   "outputs": [],
   "source": [
    "# -------------Image Load & Preprocessing ------------- #\n",
    "# Global Constant Definition\n",
    "imgR = 128\n",
    "imgC = 128\n",
    "channel = 3\n",
    "root_dir = 'C:/myPyCode/Graduation_Project'"
   ]
  },
  {
   "cell_type": "code",
   "execution_count": null,
   "id": "ade5a028",
   "metadata": {},
   "outputs": [],
   "source": []
  },
  {
   "cell_type": "code",
   "execution_count": null,
   "id": "e2365339",
   "metadata": {},
   "outputs": [],
   "source": []
  },
  {
   "cell_type": "code",
   "execution_count": null,
   "id": "bd303beb",
   "metadata": {},
   "outputs": [],
   "source": []
  }
 ],
 "metadata": {
  "kernelspec": {
   "display_name": "Python 3 (ipykernel)",
   "language": "python",
   "name": "python3"
  },
  "language_info": {
   "codemirror_mode": {
    "name": "ipython",
    "version": 3
   },
   "file_extension": ".py",
   "mimetype": "text/x-python",
   "name": "python",
   "nbconvert_exporter": "python",
   "pygments_lexer": "ipython3",
   "version": "3.9.12"
  }
 },
 "nbformat": 4,
 "nbformat_minor": 5
}
