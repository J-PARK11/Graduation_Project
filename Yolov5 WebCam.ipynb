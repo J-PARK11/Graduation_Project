{
 "cells": [
  {
   "cell_type": "markdown",
   "id": "b00282f1",
   "metadata": {},
   "source": [
    "# Yolov5 ver1 WebCam"
   ]
  },
  {
   "cell_type": "markdown",
   "id": "cab33b05",
   "metadata": {},
   "source": [
    "## 0. Setting"
   ]
  },
  {
   "cell_type": "code",
   "execution_count": 1,
   "id": "9e562012",
   "metadata": {},
   "outputs": [],
   "source": [
    "# Library Call\n",
    "from glob import glob\n",
    "import yaml\n",
    "from IPython.display import Image\n",
    "import os\n",
    "import numpy as np\n",
    "import random\n",
    "import torch\n",
    "import numpy as np"
   ]
  },
  {
   "cell_type": "code",
   "execution_count": 2,
   "id": "a76042b5",
   "metadata": {},
   "outputs": [
    {
     "data": {
      "text/plain": [
       "'C:\\\\myPyCode\\\\Graduation_Project'"
      ]
     },
     "execution_count": 2,
     "metadata": {},
     "output_type": "execute_result"
    }
   ],
   "source": [
    "pwd"
   ]
  },
  {
   "cell_type": "code",
   "execution_count": 3,
   "id": "43e34d56",
   "metadata": {},
   "outputs": [
    {
     "name": "stdout",
     "output_type": "stream",
     "text": [
      "C:\\myPyCode\\Graduation_Project\\YOLOv5\\yolov5\n"
     ]
    }
   ],
   "source": [
    "cd YOLOv5/yolov5"
   ]
  },
  {
   "cell_type": "code",
   "execution_count": 7,
   "id": "241891ac",
   "metadata": {},
   "outputs": [],
   "source": [
    "# # Download Yolov5\n",
    "# ! git clone https://github.com/ultralytics/yolov5.git"
   ]
  },
  {
   "cell_type": "markdown",
   "id": "607bcd3e",
   "metadata": {},
   "source": [
    "## 1. Static Image"
   ]
  },
  {
   "cell_type": "code",
   "execution_count": 4,
   "id": "5adc71b2",
   "metadata": {},
   "outputs": [
    {
     "name": "stdout",
     "output_type": "stream",
     "text": [
      "83 254 102 305\n",
      "class index is  tensor(2.) detected object name is  shirt\n",
      "101 232 243 518\n",
      "class index is  tensor(6.) detected object name is  trousers\n"
     ]
    },
    {
     "name": "stderr",
     "output_type": "stream",
     "text": [
      "\u001b[34m\u001b[1mdetect: \u001b[0mweights=['C:/myPyCode/Graduation_Project/YOLOv5/yolov5/runs/train/best2.pt'], source=C:/myPyCode/Graduation_Project/YOLOv5/yolov5/data/images/sample4.png, data=data\\coco128.yaml, imgsz=[416, 416], conf_thres=0.3, iou_thres=0.45, max_det=1000, device=, view_img=False, save_txt=False, save_conf=False, save_crop=False, nosave=False, classes=None, agnostic_nms=False, augment=False, visualize=False, update=False, project=runs\\detect, name=exp, exist_ok=False, line_thickness=3, hide_labels=False, hide_conf=False, half=False, dnn=False, vid_stride=1\n",
      "YOLOv5  v6.2-185-ge4398cf Python-3.9.12 torch-1.12.1+cpu CPU\n",
      "\n",
      "Fusing layers... \n",
      "YOLOv5s summary: 157 layers, 7029004 parameters, 0 gradients\n",
      "image 1/1 C:\\myPyCode\\Graduation_Project\\YOLOv5\\yolov5\\data\\images\\sample4.png: 416x256 1 shirt, 1 trousers, 123.1ms\n",
      "Speed: 1.0ms pre-process, 123.1ms inference, 1.0ms NMS per image at shape (1, 3, 416, 416)\n",
      "Results saved to \u001b[1mruns\\detect\\exp2\u001b[0m\n"
     ]
    }
   ],
   "source": [
    "# Launch Yolov5 on Image\n",
    "!python detect.py --weights C:/myPyCode/Graduation_Project/YOLOv5/yolov5/runs/train/best2.pt --img 416 --conf 0.3 --source C:/myPyCode/Graduation_Project/YOLOv5/yolov5/data/images/sample4.png"
   ]
  },
  {
   "cell_type": "markdown",
   "id": "21594090",
   "metadata": {},
   "source": [
    "## 2. Video"
   ]
  },
  {
   "cell_type": "code",
   "execution_count": 1,
   "id": "b7443c78",
   "metadata": {
    "scrolled": true
   },
   "outputs": [],
   "source": [
    "# Launch Yolov5 on Video\n",
    "!python detect_color.py --weights C:/myPyCode/Graduation_Project/YOLOv5/yolov5/runs/train/best2.pt --img 416 --conf 0.3 --source C:/myPyCode/Graduation_Project/YOLOv5/yolov5/data/videos/sample8.mp4"
   ]
  },
  {
   "cell_type": "markdown",
   "id": "f2a660e1",
   "metadata": {},
   "source": [
    "## 3. WebCam"
   ]
  },
  {
   "cell_type": "code",
   "execution_count": 2,
   "id": "d1b82981",
   "metadata": {},
   "outputs": [],
   "source": [
    "# Launch Yolov5 on Webcam\n",
    "# !python detect.py --source 0 --weights C:/myPyCode/Graduation_Project/YOLOv5/yolov5/runs/train/best2.pt --conf 0.3"
   ]
  }
 ],
 "metadata": {
  "kernelspec": {
   "display_name": "Python 3 (ipykernel)",
   "language": "python",
   "name": "python3"
  },
  "language_info": {
   "codemirror_mode": {
    "name": "ipython",
    "version": 3
   },
   "file_extension": ".py",
   "mimetype": "text/x-python",
   "name": "python",
   "nbconvert_exporter": "python",
   "pygments_lexer": "ipython3",
   "version": "3.9.12"
  }
 },
 "nbformat": 4,
 "nbformat_minor": 5
}
